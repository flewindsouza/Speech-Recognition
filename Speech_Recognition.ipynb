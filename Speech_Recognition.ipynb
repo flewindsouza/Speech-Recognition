{
  "nbformat": 4,
  "nbformat_minor": 0,
  "metadata": {
    "colab": {
      "name": "Speech Recognition.ipynb",
      "provenance": [],
      "collapsed_sections": [],
      "toc_visible": true
    },
    "kernelspec": {
      "name": "python3",
      "display_name": "Python 3"
    }
  },
  "cells": [
    {
      "cell_type": "markdown",
      "metadata": {
        "id": "x7hLXi5xhtMP",
        "colab_type": "text"
      },
      "source": [
        "# Speech Recognition "
      ]
    },
    {
      "cell_type": "markdown",
      "metadata": {
        "id": "QOqlwrtAiCm_",
        "colab_type": "text"
      },
      "source": [
        "Using PIP speech recognition must be installed\n",
        "\n",
        "\n",
        "\n",
        "\n"
      ]
    },
    {
      "cell_type": "code",
      "metadata": {
        "id": "WqpYEoyXkOQQ",
        "colab_type": "code",
        "outputId": "27429b8f-26d2-4988-c724-d84561b75698",
        "colab": {
          "base_uri": "https://localhost:8080/",
          "height": 34
        }
      },
      "source": [
        "! pip install SpeechRecognition"
      ],
      "execution_count": 9,
      "outputs": [
        {
          "output_type": "stream",
          "text": [
            "Requirement already satisfied: SpeechRecognition in /usr/local/lib/python3.6/dist-packages (3.8.1)\n"
          ],
          "name": "stdout"
        }
      ]
    },
    {
      "cell_type": "code",
      "metadata": {
        "id": "CnQUd3BHkZQl",
        "colab_type": "code",
        "colab": {}
      },
      "source": [
        "import speech_recognition as sr"
      ],
      "execution_count": 0,
      "outputs": []
    },
    {
      "cell_type": "markdown",
      "metadata": {
        "id": "Zpqc58rxlL7b",
        "colab_type": "text"
      },
      "source": [
        "Capture recording"
      ]
    },
    {
      "cell_type": "code",
      "metadata": {
        "id": "O18YRHil9tTQ",
        "colab_type": "code",
        "colab": {}
      },
      "source": [
        "r = sr.Recognizer()"
      ],
      "execution_count": 0,
      "outputs": []
    },
    {
      "cell_type": "code",
      "metadata": {
        "id": "0oXBUT3ErtR8",
        "colab_type": "code",
        "colab": {}
      },
      "source": [
        "with sr.WavFile(\"SAMPLE.wav\") as source:              \n",
        "    audio = r.record(source)                        "
      ],
      "execution_count": 0,
      "outputs": []
    },
    {
      "cell_type": "code",
      "metadata": {
        "id": "9nyfTuHd62ip",
        "colab_type": "code",
        "outputId": "a0f5f2bf-adc9-4860-d1e1-5d7bddc49ce5",
        "colab": {
          "base_uri": "https://localhost:8080/",
          "height": 34
        }
      },
      "source": [
        "type(audio)"
      ],
      "execution_count": 13,
      "outputs": [
        {
          "output_type": "execute_result",
          "data": {
            "text/plain": [
              "speech_recognition.AudioData"
            ]
          },
          "metadata": {
            "tags": []
          },
          "execution_count": 13
        }
      ]
    },
    {
      "cell_type": "code",
      "metadata": {
        "id": "I4-SBkAn8D9e",
        "colab_type": "code",
        "outputId": "7bf81e5e-4e19-445e-a5e0-88eff643cf82",
        "colab": {
          "base_uri": "https://localhost:8080/",
          "height": 34
        }
      },
      "source": [
        "audio"
      ],
      "execution_count": 14,
      "outputs": [
        {
          "output_type": "execute_result",
          "data": {
            "text/plain": [
              "<speech_recognition.AudioData at 0x7f3e70d67518>"
            ]
          },
          "metadata": {
            "tags": []
          },
          "execution_count": 14
        }
      ]
    },
    {
      "cell_type": "code",
      "metadata": {
        "id": "H1VRgsyU7A_U",
        "colab_type": "code",
        "outputId": "5a5a315e-67cd-4f4b-ea97-05cbb257fb89",
        "colab": {
          "base_uri": "https://localhost:8080/",
          "height": 34
        }
      },
      "source": [
        "r.recognize_google(audio)"
      ],
      "execution_count": 15,
      "outputs": [
        {
          "output_type": "execute_result",
          "data": {
            "text/plain": [
              "'Super Mario quiz'"
            ]
          },
          "metadata": {
            "tags": []
          },
          "execution_count": 15
        }
      ]
    },
    {
      "cell_type": "code",
      "metadata": {
        "id": "Ga7kCbdB9bSv",
        "colab_type": "code",
        "colab": {
          "base_uri": "https://localhost:8080/",
          "height": 34
        },
        "outputId": "fc666420-7582-402a-a096-8e2adcdd8b16"
      },
      "source": [
        "r.recognize_google(audio,language='ro-RO') #for Romanian"
      ],
      "execution_count": 17,
      "outputs": [
        {
          "output_type": "execute_result",
          "data": {
            "text/plain": [
              "'poze cu mama lui Smiley'"
            ]
          },
          "metadata": {
            "tags": []
          },
          "execution_count": 17
        }
      ]
    },
    {
      "cell_type": "code",
      "metadata": {
        "id": "4dhZq0Pbn29P",
        "colab_type": "code",
        "colab": {}
      },
      "source": [
        ""
      ],
      "execution_count": 0,
      "outputs": []
    }
  ]
}